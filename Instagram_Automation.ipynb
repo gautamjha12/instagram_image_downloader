{
 "cells": [
  {
   "cell_type": "code",
   "execution_count": 1,
   "metadata": {},
   "outputs": [],
   "source": [
    "import os\n",
    "import wget \n",
    "from selenium import webdriver\n",
    "from selenium.webdriver.common.keys import Keys\n",
    "from selenium.webdriver.support import expected_conditions as EC\n",
    "from selenium.webdriver.common.by import By\n",
    "from selenium.webdriver.support.wait import WebDriverWait"
   ]
  },
  {
   "cell_type": "code",
   "execution_count": 2,
   "metadata": {},
   "outputs": [
    {
     "name": "stderr",
     "output_type": "stream",
     "text": [
      "C:\\Users\\admin\\AppData\\Local\\Temp/ipykernel_1496/2207234550.py:1: DeprecationWarning: executable_path has been deprecated, please pass in a Service object\n",
      "  driver = webdriver.Chrome('D:/chromedriver.exe')\n"
     ]
    }
   ],
   "source": [
    "driver = webdriver.Chrome('D:/chromedriver.exe')\n",
    "driver.get('https://www.instagram.com/')"
   ]
  },
  {
   "cell_type": "code",
   "execution_count": 3,
   "metadata": {},
   "outputs": [],
   "source": [
    "username = WebDriverWait(driver,10).until(EC.element_to_be_clickable((By.CSS_SELECTOR, \"input[name='username']\")))\n",
    "password = WebDriverWait(driver,10).until(EC.element_to_be_clickable((By.CSS_SELECTOR, \"input[name='password']\")))\n",
    "\n",
    "username.clear()\n",
    "password.clear()\n",
    "username.send_keys('uncorporate_gautam')\n",
    "password.send_keys('Slatetodate01')"
   ]
  },
  {
   "cell_type": "code",
   "execution_count": 4,
   "metadata": {},
   "outputs": [],
   "source": [
    "login = WebDriverWait(driver,10).until(EC.element_to_be_clickable((By.CSS_SELECTOR, \"button[type='submit']\"))).click()"
   ]
  },
  {
   "cell_type": "code",
   "execution_count": 5,
   "metadata": {},
   "outputs": [],
   "source": [
    "not_now = WebDriverWait(driver,10).until(EC.element_to_be_clickable((By.XPATH, \"//button[contains(text(),'Not Now')]\"))).click()\n",
    "not_now_notifications = WebDriverWait(driver,10).until(EC.element_to_be_clickable((By.XPATH, \"//button[contains(text(),'Not Now')]\"))).click()"
   ]
  },
  {
   "cell_type": "code",
   "execution_count": 6,
   "metadata": {},
   "outputs": [],
   "source": [
    "search = not_now = WebDriverWait(driver,10).until(EC.element_to_be_clickable((By.XPATH, \"//input[@placeholder='Search']\")))\n",
    "search.clear()\n",
    "keyword = \"#ufc272\"\n",
    "search.send_keys(keyword)"
   ]
  },
  {
   "cell_type": "code",
   "execution_count": 10,
   "metadata": {},
   "outputs": [],
   "source": [
    "time.sleep(5)\n",
    "searchbox.send_keys(Keys.ENTER)\n",
    "time.sleep(5)\n",
    "searchbox.send_keys(Keys.ENTER)\n",
    "time.sleep(5)\n"
   ]
  },
  {
   "cell_type": "code",
   "execution_count": 28,
   "metadata": {},
   "outputs": [
    {
     "name": "stderr",
     "output_type": "stream",
     "text": [
      "C:\\Users\\admin\\AppData\\Local\\Temp/ipykernel_1496/2922997146.py:2: DeprecationWarning: find_elements_by_* commands are deprecated. Please use find_elements() instead\n",
      "  images = driver.find_elements_by_tag_name('img')\n"
     ]
    },
    {
     "name": "stdout",
     "output_type": "stream",
     "text": [
      "Number of scraped images:  40\n"
     ]
    }
   ],
   "source": [
    "driver.execute_script(\"window.scrollTo(0,1000000000000000000000);\")\n",
    "images = driver.find_elements_by_tag_name('img')\n",
    "images = [image.get_attribute('src') for image in images]\n",
    "images = images[:-2]\n",
    "\n",
    "print('Number of scraped images: ', len(images))\n"
   ]
  },
  {
   "cell_type": "code",
   "execution_count": 29,
   "metadata": {},
   "outputs": [
    {
     "data": {
      "text/plain": [
       "['https://instagram.fbom36-1.fna.fbcdn.net/v/t51.2885-15/275318736_1845992258926141_530571984342178662_n.jpg?stp=dst-jpg_e35&_nc_ht=instagram.fbom36-1.fna.fbcdn.net&_nc_cat=101&_nc_ohc=NFRAgZyMeIgAX-O27RZ&edm=ABZsPhsBAAAA&ccb=7-4&ig_cache_key=Mjc4NzI1OTY3NDg4MzQ0NzEzMw%3D%3D.2-ccb7-4&oh=00_AT9ERGGKXGmyora8mYS2vjdUUztqdnyO7n52s0yzWM1fWw&oe=622B043F&_nc_sid=4efc9f',\n",
       " 'https://instagram.fbom36-1.fna.fbcdn.net/v/t51.2885-15/275318736_1845992258926141_530571984342178662_n.jpg?stp=dst-jpg_e35&_nc_ht=instagram.fbom36-1.fna.fbcdn.net&_nc_cat=101&_nc_ohc=NFRAgZyMeIgAX-O27RZ&edm=ABZsPhsBAAAA&ccb=7-4&ig_cache_key=Mjc4NzI1OTY3NDg4MzQ0NzEzMw%3D%3D.2-ccb7-4&oh=00_AT9ERGGKXGmyora8mYS2vjdUUztqdnyO7n52s0yzWM1fWw&oe=622B043F&_nc_sid=4efc9f',\n",
       " 'https://instagram.fbom36-1.fna.fbcdn.net/v/t51.2885-15/275168180_483869486725040_7427020157502746563_n.jpg?stp=dst-jpg_e35&_nc_ht=instagram.fbom36-1.fna.fbcdn.net&_nc_cat=108&_nc_ohc=uKEWxt2pULUAX9e3wW0&edm=ABZsPhsBAAAA&ccb=7-4&ig_cache_key=Mjc4NzI4OTI0OTcxODQwNjU5MQ%3D%3D.2-ccb7-4&oh=00_AT_ZIk0tIp-zu2D6LJrtq3t2ywQEIpi8n8P5aHpNs2XzOQ&oe=622B656C&_nc_sid=4efc9f',\n",
       " 'https://instagram.fbom36-1.fna.fbcdn.net/v/t51.2885-15/275170152_349733880371963_2157207872978887663_n.jpg?stp=dst-jpg_e15_fr_s1080x1080&_nc_ht=instagram.fbom36-1.fna.fbcdn.net&_nc_cat=1&_nc_ohc=XJPQ5JWWTM8AX_ynbPQ&edm=ABZsPhsBAAAA&ccb=7-4&ig_cache_key=Mjc4Njg3MjcyMDMxNjg1NDAxMg%3D%3D.2-ccb7-4&oh=00_AT-9zxl_aqUVYEzNCYsEP8MMCMqOYEzj0l78G42u22EHJw&oe=622AF81D&_nc_sid=4efc9f',\n",
       " 'https://instagram.fbom36-1.fna.fbcdn.net/v/t51.2885-15/275110279_551765799705986_4932579957726418512_n.webp?stp=dst-jpg_e35&_nc_ht=instagram.fbom36-1.fna.fbcdn.net&_nc_cat=102&_nc_ohc=lKScHwmqDsoAX_FVAdB&tn=mPcFJLulSSkLn7h4&edm=ABZsPhsBAAAA&ccb=7-4&ig_cache_key=Mjc4NzQwNDU4NTI5MDEzOTczOA%3D%3D.2-ccb7-4&oh=00_AT_ZuA0r-r2LuShb6ApkWdthBbJKJOWkulO_F-Tf_-o8IA&oe=622B3283&_nc_sid=4efc9f',\n",
       " 'https://instagram.fbom36-1.fna.fbcdn.net/v/t51.2885-15/275162825_489606599348775_8325828907465486423_n.jpg?stp=dst-jpg_e35&_nc_ht=instagram.fbom36-1.fna.fbcdn.net&_nc_cat=103&_nc_ohc=_ir6lodHZgMAX-_FqZ2&tn=mPcFJLulSSkLn7h4&edm=ABZsPhsBAAAA&ccb=7-4&ig_cache_key=Mjc4NzE1NTI4MjE0NjU3NzI1Ng%3D%3D.2-ccb7-4&oh=00_AT9EiR7VMShoy_V-R9sJDy_Ic_2F5EHwcIGk-zmuJ1aNzQ&oe=622B0C70&_nc_sid=4efc9f',\n",
       " 'https://instagram.fbom36-1.fna.fbcdn.net/v/t51.2885-15/275162228_474488967560729_4744608760212880476_n.jpg?stp=dst-jpg_e35&_nc_ht=instagram.fbom36-1.fna.fbcdn.net&_nc_cat=105&_nc_ohc=hEhQH4DGJJsAX_iaa2x&tn=mPcFJLulSSkLn7h4&edm=ABZsPhsBAAAA&ccb=7-4&ig_cache_key=Mjc4NzA5MDg2NTE5NDg1NjA4MA%3D%3D.2-ccb7-4&oh=00_AT_GsQQd8rWn2KchLkDuSvmZysqON7ELi6yU_kxDv6G7TQ&oe=622AF08A&_nc_sid=4efc9f',\n",
       " 'https://instagram.fbom36-1.fna.fbcdn.net/v/t51.2885-15/275033270_344053200971757_7747778776996888408_n.jpg?stp=dst-jpg_e15_fr_p1080x1080&_nc_ht=instagram.fbom36-1.fna.fbcdn.net&_nc_cat=1&_nc_ohc=ssytsRUqbZAAX85BeqA&edm=ABZsPhsBAAAA&ccb=7-4&ig_cache_key=Mjc4NjIxMzcwOTY1MjEwMjU3Ng%3D%3D.2-ccb7-4&oh=00_AT-69zLi0kPPOgF8XDr0q7RcsazlvW0z2Z0Ziudc_oitug&oe=622A4372&_nc_sid=4efc9f',\n",
       " 'https://instagram.fbom36-1.fna.fbcdn.net/v/t51.2885-15/275209317_705886143755055_1396071391075942337_n.jpg?stp=dst-jpg_e35&_nc_ht=instagram.fbom36-1.fna.fbcdn.net&_nc_cat=103&_nc_ohc=vzQVxgSVGf8AX8HX8ML&edm=ABZsPhsBAAAA&ccb=7-4&ig_cache_key=Mjc4NzM1OTQ2MzU1ODU5Mzk1Mw%3D%3D.2-ccb7-4&oh=00_AT_Chx7FwvwSVDpbJLGYdP1DPofgGALKw1Mb8ZhOgBnfmw&oe=622A53BA&_nc_sid=4efc9f',\n",
       " 'https://instagram.fbom36-1.fna.fbcdn.net/v/t51.2885-15/275225228_331565072249511_6409340105297567696_n.jpg?stp=dst-jpg_e35&_nc_ht=instagram.fbom36-1.fna.fbcdn.net&_nc_cat=103&_nc_ohc=0z5bYoEjbcYAX99l9_w&tn=mPcFJLulSSkLn7h4&edm=ABZsPhsBAAAA&ccb=7-4&ig_cache_key=Mjc4NzI0NTAwNjgzMjc4NzQ0Mg%3D%3D.2-ccb7-4&oh=00_AT997RrZ-aOzpArHiH-7PeaiCNBzVWepJb3cNKd-Pr_UuQ&oe=622B88DD&_nc_sid=4efc9f',\n",
       " 'https://instagram.fbom36-1.fna.fbcdn.net/v/t51.2885-15/275431587_653879629219866_5571077866084476880_n.jpg?stp=dst-jpg_e15_fr_s1080x1080&_nc_ht=instagram.fbom36-1.fna.fbcdn.net&_nc_cat=106&_nc_ohc=-Naq0biZnBcAX_bt38G&edm=AMKDjl4BAAAA&ccb=7-4&ig_cache_key=Mjc4NzQyMzk0NTc4MTI0ODQ4Ng%3D%3D.2-ccb7-4&oh=00_AT9tGvcGz7w-GoUAoqvh6VC1zvFkClwzJv4VmRlf_zlW9A&oe=622A35B0&_nc_sid=1fe099',\n",
       " 'https://instagram.fbom36-1.fna.fbcdn.net/v/t51.2885-15/275182188_501444194755507_1461226776416338338_n.jpg?stp=dst-jpg_e15_fr_p1080x1080&_nc_ht=instagram.fbom36-1.fna.fbcdn.net&_nc_cat=107&_nc_ohc=itG0ZEsYW9kAX9AWbvo&edm=AMKDjl4BAAAA&ccb=7-4&ig_cache_key=Mjc4NzQyMzcxNzcyMDA4NjAwNw%3D%3D.2-ccb7-4&oh=00_AT8up8XtbSfV4-D20kGtj_bKpqXCqXkivgGIf0DRlfgu_A&oe=622A976B&_nc_sid=1fe099',\n",
       " 'https://instagram.fbom36-1.fna.fbcdn.net/v/t51.2885-15/275194804_1925401877660521_1348947649816692654_n.jpg?stp=dst-jpg_e15_fr_s1080x1080&_nc_ht=instagram.fbom36-1.fna.fbcdn.net&_nc_cat=101&_nc_ohc=a2-uTkBygAwAX-T1DWY&tn=mPcFJLulSSkLn7h4&edm=AMKDjl4BAAAA&ccb=7-4&ig_cache_key=Mjc4NzQyMzU4NzQ4NTY2NjkxMA%3D%3D.2-ccb7-4&oh=00_AT_gNY484OF8F-omSjpjCXiiL5kvaeJRTtKDJzjVgGy8aQ&oe=622A16C6&_nc_sid=1fe099',\n",
       " 'https://instagram.fbom36-1.fna.fbcdn.net/v/t51.2885-15/275154092_486700669527270_694172943872277304_n.jpg?stp=dst-jpg_e35&_nc_ht=instagram.fbom36-1.fna.fbcdn.net&_nc_cat=106&_nc_ohc=Pz1ZOXHP41YAX-D_W-u&edm=AMKDjl4BAAAA&ccb=7-4&ig_cache_key=Mjc4NzQyMzU2OTkyMTIzMjkwNg%3D%3D.2-ccb7-4&oh=00_AT87ckqTSko8Y55X-ouaHPLr2roxAx1U1_8sZJbfUII5Sg&oe=6229F5E3&_nc_sid=1fe099',\n",
       " 'https://instagram.fbom36-1.fna.fbcdn.net/v/t51.2885-15/275125104_742821119956352_1867989722306491895_n.webp?stp=dst-jpg_e35&_nc_ht=instagram.fbom36-1.fna.fbcdn.net&_nc_cat=108&_nc_ohc=7mNuDPk_T-0AX9SlwCi&edm=AMKDjl4BAAAA&ccb=7-4&ig_cache_key=Mjc4NzQyMzM5MTg1NTIxOTIyMw%3D%3D.2-ccb7-4&oh=00_AT898F_A3K16itZ8JFBT5bGt5y451J9vj32jioJJ-0TWTw&oe=622B2DD5&_nc_sid=1fe099',\n",
       " 'https://instagram.fbom36-1.fna.fbcdn.net/v/t51.2885-15/275178198_994218574554822_3477863929929892067_n.webp?stp=dst-jpg_e35&_nc_ht=instagram.fbom36-1.fna.fbcdn.net&_nc_cat=106&_nc_ohc=0JERWpIkQqcAX_j2P5r&edm=AMKDjl4BAAAA&ccb=7-4&ig_cache_key=Mjc4NzQyMzI2ODcyNzg0NzE5Mw%3D%3D.2-ccb7-4&oh=00_AT_5Wjm9Yljsec1Ty5lRdNAi5PJZC9jaLn1SodMCk8iN4A&oe=622A17E3&_nc_sid=1fe099',\n",
       " 'https://instagram.fbom36-1.fna.fbcdn.net/v/t51.2885-15/275136939_1048990265653178_5809573565738161760_n.jpg?stp=dst-jpg_e35&_nc_ht=instagram.fbom36-1.fna.fbcdn.net&_nc_cat=102&_nc_ohc=T1TaoAck5mQAX-cwz9u&tn=mPcFJLulSSkLn7h4&edm=AMKDjl4BAAAA&ccb=7-4&ig_cache_key=Mjc4NzQyMzI5MDc3OTc5MjQyMg%3D%3D.2-ccb7-4&oh=00_AT_O8QNo4svpNLSN4YS99YC9hpZ8_u5PRWGWWRJNC69UPg&oe=622B8F8A&_nc_sid=1fe099',\n",
       " 'https://instagram.fbom36-1.fna.fbcdn.net/v/t51.2885-15/275385213_476681884167152_2616457944703242847_n.jpg?stp=dst-jpg_e15&_nc_ht=instagram.fbom36-1.fna.fbcdn.net&_nc_cat=108&_nc_ohc=c1P0oydLKwAAX_PEqh7&tn=mPcFJLulSSkLn7h4&edm=AMKDjl4BAAAA&ccb=7-4&ig_cache_key=Mjc4NzQyMzU4MzU1MjQ1NzYzNw%3D%3D.2-ccb7-4&oh=00_AT89aSfINLxeJC6vGYwVPwR51czewj3z6s2GQTp_KvEulg&oe=622AEFEB&_nc_sid=1fe099',\n",
       " 'https://instagram.fbom36-1.fna.fbcdn.net/v/t51.2885-15/275397210_1128812861282950_1206486081530190045_n.jpg?stp=dst-jpg_e35&_nc_ht=instagram.fbom36-1.fna.fbcdn.net&_nc_cat=110&_nc_ohc=fLj6tVMKf5AAX-ZgNJV&edm=AMKDjl4BAAAA&ccb=7-4&ig_cache_key=Mjc4NzQyMjc0NDY1ODY0NjA4MA%3D%3D.2-ccb7-4&oh=00_AT-ctUtzyTLp1M8gXdDEnnuiOm6p7w29LlbVwdglsjuWTw&oe=622A788B&_nc_sid=1fe099',\n",
       " 'https://instagram.fbom36-1.fna.fbcdn.net/v/t51.2885-15/275309579_261909196123153_3242509324441201734_n.webp?stp=dst-jpg_e35&_nc_ht=instagram.fbom36-1.fna.fbcdn.net&_nc_cat=101&_nc_ohc=CNGhEZjGzC0AX9KSid4&edm=AMKDjl4BAAAA&ccb=7-4&ig_cache_key=Mjc4NzQyMjc4NDkwNzE5ODkxOQ%3D%3D.2-ccb7-4&oh=00_AT_sqoRcw4PWsMy80p2dirCJ21K78ZBnZgmrRTMTFCD0IA&oe=622A338D&_nc_sid=1fe099',\n",
       " 'https://instagram.fbom36-1.fna.fbcdn.net/v/t51.2885-15/275230028_305052534947154_8536562235859521785_n.jpg?stp=dst-jpg_e35&_nc_ht=instagram.fbom36-1.fna.fbcdn.net&_nc_cat=106&_nc_ohc=5JTgJzybVcQAX9C_LSA&edm=AMKDjl4BAAAA&ccb=7-4&ig_cache_key=Mjc4NzQyMjgwNzM4ODg3MDc0Mg%3D%3D.2-ccb7-4&oh=00_AT-UhKzbGjhYAVyvh8OP297pRhAD67RNeTYp0pqbExHkwQ&oe=622B2809&_nc_sid=1fe099',\n",
       " 'https://instagram.fbom36-1.fna.fbcdn.net/v/t51.2885-15/275164729_1142940116457480_6700662101821120050_n.jpg?stp=dst-jpg_e15_s640x640&_nc_ht=instagram.fbom36-1.fna.fbcdn.net&_nc_cat=100&_nc_ohc=fURGG5xKK6gAX-DTwQg&edm=AMKDjl4BAAAA&ccb=7-4&ig_cache_key=Mjc4NzQxOTcxNjMyNzk4OTkwNw%3D%3D.2-ccb7-4&oh=00_AT9A93Kip94fYaV35h6B7dGELyhjP29Jt7Qb6mGEqa6WKg&oe=6229E3F1&_nc_sid=1fe099',\n",
       " 'https://instagram.fbom36-1.fna.fbcdn.net/v/t51.2885-15/275227123_420767816478715_3487913058071846335_n.jpg?stp=dst-jpg_e35&_nc_ht=instagram.fbom36-1.fna.fbcdn.net&_nc_cat=107&_nc_ohc=3VwINqdSUg4AX8ZQW9z&edm=AMKDjl4BAAAA&ccb=7-4&ig_cache_key=Mjc4NzQyMTAwNjUxNDIyMTgyNg%3D%3D.2-ccb7-4&oh=00_AT8N9UQJ--udhFYswPpHhm9Ic2dHCp0SNzuzWh7nUEDyvQ&oe=622A9DF5&_nc_sid=1fe099',\n",
       " 'https://instagram.fbom36-1.fna.fbcdn.net/v/t51.2885-15/275160731_3092499634297858_6993751456554272462_n.webp?stp=dst-jpg_e35&_nc_ht=instagram.fbom36-1.fna.fbcdn.net&_nc_cat=110&_nc_ohc=BIamBi_08oEAX-8VwRC&edm=AMKDjl4BAAAA&ccb=7-4&ig_cache_key=Mjc4NzQyMTA4MzAwOTg5MjExNA%3D%3D.2-ccb7-4&oh=00_AT-OH41R4jrHbNsW4jczl-kJo_LRMrB_AqqT9qT2UqLemQ&oe=622B4719&_nc_sid=1fe099',\n",
       " 'https://instagram.fbom36-1.fna.fbcdn.net/v/t51.2885-15/275215074_369665548081132_2859609760742494956_n.jpg?stp=dst-jpg_e35&_nc_ht=instagram.fbom36-1.fna.fbcdn.net&_nc_cat=104&_nc_ohc=ZU7sD1TsyXUAX8UcRGa&edm=AMKDjl4BAAAA&ccb=7-4&ig_cache_key=Mjc4NzQyMDg5MzIxNjg0NzY0Mw%3D%3D.2-ccb7-4&oh=00_AT_5CHPdVYkOxRAWW2gg2XK-WmAuBwxU3QUfmao1gyK4Kw&oe=622A912E&_nc_sid=1fe099',\n",
       " 'https://instagram.fbom36-1.fna.fbcdn.net/v/t51.2885-15/275236061_918318832197755_1514278666206488172_n.jpg?stp=dst-jpg_e35&_nc_ht=instagram.fbom36-1.fna.fbcdn.net&_nc_cat=111&_nc_ohc=gxqNBAFCf4IAX_65mnQ&tn=mPcFJLulSSkLn7h4&edm=AMKDjl4BAAAA&ccb=7-4&ig_cache_key=Mjc4NzQyMDkzNjkwNTQ4NzI2Mg%3D%3D.2-ccb7-4&oh=00_AT8pdiRWr_6CNTJ8E8K0QJyLZvm-qbsrNWqwPPXDgeiUwA&oe=622B3A89&_nc_sid=1fe099',\n",
       " 'https://instagram.fbom36-1.fna.fbcdn.net/v/t51.2885-15/275400378_4868426193194016_3039674496842696384_n.jpg?stp=dst-jpg_e35&_nc_ht=instagram.fbom36-1.fna.fbcdn.net&_nc_cat=100&_nc_ohc=Cbst91t8MwQAX-wcX7u&edm=AMKDjl4BAAAA&ccb=7-4&ig_cache_key=Mjc4NzQyMDkwMTE0MzMyNDM4Nw%3D%3D.2-ccb7-4&oh=00_AT-P7xCGhr4Uh-66r0mceZjVNwIVOvEOw_OchnW3Nmz6mg&oe=6229FFA4&_nc_sid=1fe099',\n",
       " 'https://instagram.fbom36-1.fna.fbcdn.net/v/t51.2885-15/275145425_259897123002869_8524859746071696253_n.jpg?stp=dst-jpg_e35&_nc_ht=instagram.fbom36-1.fna.fbcdn.net&_nc_cat=105&_nc_ohc=Tg-sB3-wRdwAX-i6Dg2&edm=AMKDjl4BAAAA&ccb=7-4&ig_cache_key=Mjc4NzQxODc5NDk4OTMxODY1OA%3D%3D.2-ccb7-4&oh=00_AT_vFPJPzuleeZ-6OSXcuQ1ZnOz09IDG9ods6GTAOapfjw&oe=622B0196&_nc_sid=1fe099',\n",
       " 'https://instagram.fbom36-1.fna.fbcdn.net/v/t51.2885-15/275211125_934439627237991_8570055092465555692_n.webp?stp=dst-jpg_e35&_nc_ht=instagram.fbom36-1.fna.fbcdn.net&_nc_cat=103&_nc_ohc=SOpKHUGlpPwAX97n9FG&tn=mPcFJLulSSkLn7h4&edm=AMKDjl4BAAAA&ccb=7-4&ig_cache_key=Mjc4NzQyMDIzMjczOTA0NDM2Mg%3D%3D.2-ccb7-4&oh=00_AT8EonSc0j6nKi5iHhp3SOuXB-0RRVGhyLxAR4PpAC2fag&oe=622ABBA3&_nc_sid=1fe099',\n",
       " 'https://instagram.fbom36-1.fna.fbcdn.net/v/t51.2885-15/275192020_551721476073329_2751312284853664208_n.webp?stp=dst-jpg_e35&_nc_ht=instagram.fbom36-1.fna.fbcdn.net&_nc_cat=105&_nc_ohc=pHbfpw2Ea2UAX-_gWhg&edm=AMKDjl4BAAAA&ccb=7-4&ig_cache_key=Mjc4NzQxOTkyNTg0MTgwNTgzNw%3D%3D.2-ccb7-4&oh=00_AT9p3aHFIMimm7qnziPlJvYeOXq4JqGiAzdnkQsqxrGmwQ&oe=622AE36B&_nc_sid=1fe099',\n",
       " 'https://instagram.fbom36-1.fna.fbcdn.net/v/t51.2885-15/275274687_664864927995590_1468493566123007407_n.jpg?stp=dst-jpg_e35&_nc_ht=instagram.fbom36-1.fna.fbcdn.net&_nc_cat=102&_nc_ohc=gpJSHYqQtboAX_j0iPa&tn=mPcFJLulSSkLn7h4&edm=AMKDjl4BAAAA&ccb=7-4&ig_cache_key=Mjc4NzQyMDE1MDQzNzM2NjkyMg%3D%3D.2-ccb7-4&oh=00_AT_SQE73ts-HOtczuH5imqD6YpL3-rhddnyHfbkfu1jzQw&oe=622B83E4&_nc_sid=1fe099',\n",
       " 'https://instagram.fbom36-1.fna.fbcdn.net/v/t51.2885-15/275254006_956525841669042_5100961912906852647_n.jpg?stp=dst-jpg_e15_fr_p1080x1080&_nc_ht=instagram.fbom36-1.fna.fbcdn.net&_nc_cat=106&_nc_ohc=33-Do3VjTR0AX-R8cSJ&edm=AMKDjl4BAAAA&ccb=7-4&ig_cache_key=Mjc4NzQxOTk3Nzg2ODA3MDQ5Ng%3D%3D.2-ccb7-4&oh=00_AT9d8ZvmtuCrmoH0OPqnztf_dJXE7BnTXpTM14zN5u5QFA&oe=622A1031&_nc_sid=1fe099',\n",
       " 'https://instagram.fbom36-1.fna.fbcdn.net/v/t51.2885-15/275143836_664404931642998_4071519245210011092_n.jpg?stp=dst-jpg_e15_fr_s1080x1080&_nc_ht=instagram.fbom36-1.fna.fbcdn.net&_nc_cat=106&_nc_ohc=FjnocqE0HOYAX9G_M_E&edm=AMKDjl4BAAAA&ccb=7-4&ig_cache_key=Mjc4NzQxOTg2OTExODg1NjgxOA%3D%3D.2-ccb7-4&oh=00_AT8bm68QkPtJVdYu9nDwxtADN55rI-vNjzQGr-hJMh0-qQ&oe=622AF612&_nc_sid=1fe099',\n",
       " 'https://instagram.fbom36-1.fna.fbcdn.net/v/t51.2885-15/275218662_1055007125050874_5281027215610053228_n.jpg?stp=dst-jpg_e35&_nc_ht=instagram.fbom36-1.fna.fbcdn.net&_nc_cat=102&_nc_ohc=T4W65mf3HlkAX80G8tz&edm=AMKDjl4BAAAA&ccb=7-4&ig_cache_key=Mjc4NzQyMDAyNTI5ODc0Njg3NQ%3D%3D.2-ccb7-4&oh=00_AT9e4fhRqhco1Ota245zoEq6PGpX9w6ft4QZgEHW_zoJVQ&oe=6229D501&_nc_sid=1fe099',\n",
       " 'https://instagram.fbom36-1.fna.fbcdn.net/v/t51.2885-15/275111811_277646097850727_1487307958193986118_n.webp?stp=dst-jpg_e35&_nc_ht=instagram.fbom36-1.fna.fbcdn.net&_nc_cat=111&_nc_ohc=CWYwdYDXO6oAX8PgsfU&edm=AMKDjl4BAAAA&ccb=7-4&ig_cache_key=Mjc4NzQxOTEwNDQxMzI4NTM3Nw%3D%3D.2-ccb7-4&oh=00_AT_t_sUoJsX9hleggeIs6fRB5WplnNhaY4prLKrR2RRrZw&oe=6229C815&_nc_sid=1fe099',\n",
       " 'https://instagram.fbom36-1.fna.fbcdn.net/v/t51.2885-15/275242802_138465935336293_1619349334163494737_n.jpg?stp=dst-jpg_e35&_nc_ht=instagram.fbom36-1.fna.fbcdn.net&_nc_cat=101&_nc_ohc=OPiyJKeJNcwAX_1Xq2h&edm=AMKDjl4BAAAA&ccb=7-4&ig_cache_key=Mjc4NzQxODg4ODE3MjUyMDQzOQ%3D%3D.2-ccb7-4&oh=00_AT_NZbO7Eke8V1ivWshcoBaztrstZPqIS3lyCjYg_VDifQ&oe=622AC465&_nc_sid=1fe099',\n",
       " 'https://instagram.fbom36-1.fna.fbcdn.net/v/t51.2885-15/275188745_635837147501760_206214466340000398_n.webp?stp=dst-jpg_e35&_nc_ht=instagram.fbom36-1.fna.fbcdn.net&_nc_cat=100&_nc_ohc=HeCmF51_45UAX-rzNgz&edm=AMKDjl4BAAAA&ccb=7-4&ig_cache_key=Mjc4NzQxODA3NjkwMTAzMzc5Nw%3D%3D.2-ccb7-4&oh=00_AT-wvSljG-fLwO-GdAyRW90ZXQWqx9oPQsG8csY-OoPtVw&oe=622A1401&_nc_sid=1fe099',\n",
       " 'https://instagram.fbom36-1.fna.fbcdn.net/v/t51.2885-15/275252322_3062715854042739_4814814311598383730_n.webp?stp=dst-jpg_e35&_nc_ht=instagram.fbom36-1.fna.fbcdn.net&_nc_cat=103&_nc_ohc=oTUjIcB8A3oAX8uGYYi&edm=AMKDjl4BAAAA&ccb=7-4&ig_cache_key=Mjc4NzQxODA2OTE0MTQxMDc4Mw%3D%3D.2-ccb7-4&oh=00_AT-NURD4XjAbftQ-zPJFY6o11IjdLD2NC6WSmsjm4oPIlA&oe=622A98B6&_nc_sid=1fe099',\n",
       " 'https://instagram.fbom36-1.fna.fbcdn.net/v/t51.2885-15/275326636_155377070218136_9031042594134091080_n.jpg?stp=dst-jpg_e35&_nc_ht=instagram.fbom36-1.fna.fbcdn.net&_nc_cat=108&_nc_ohc=r3zlEnnH-4YAX8fv6fl&edm=AMKDjl4BAAAA&ccb=7-4&ig_cache_key=Mjc4NzQxNzYyNDc4ODc5MjMwMg%3D%3D.2-ccb7-4&oh=00_AT-iE55dPK1lyMHZKvTTjTmjaiyq2iEPGte9J8CAa5wMJg&oe=622B9909&_nc_sid=1fe099',\n",
       " 'https://instagram.fbom36-1.fna.fbcdn.net/v/t51.2885-15/275164582_133816879154471_3023509049554861429_n.jpg?stp=dst-jpg_e35&_nc_ht=instagram.fbom36-1.fna.fbcdn.net&_nc_cat=111&_nc_ohc=w5pdYCbjgQ8AX8w7rD0&edm=AMKDjl4BAAAA&ccb=7-4&ig_cache_key=Mjc4NzQwNzI0NDMzNzUzNTE1Mw%3D%3D.2-ccb7-4&oh=00_AT_l4EH3WeuUCjD5v_ISrYzkXfi6axKsXkAViC4mh19zyA&oe=622B9986&_nc_sid=1fe099']"
      ]
     },
     "execution_count": 29,
     "metadata": {},
     "output_type": "execute_result"
    }
   ],
   "source": [
    "images"
   ]
  },
  {
   "cell_type": "code",
   "execution_count": 31,
   "metadata": {},
   "outputs": [
    {
     "data": {
      "text/plain": [
       "'D:\\\\ufc272s'"
      ]
     },
     "execution_count": 31,
     "metadata": {},
     "output_type": "execute_result"
    }
   ],
   "source": [
    "path = os.getcwd()\n",
    "path = os.path.join(path, keyword[1:] + 's')\n",
    "\n",
    "os.mkdir(path)\n",
    "path"
   ]
  },
  {
   "cell_type": "code",
   "execution_count": 32,
   "metadata": {},
   "outputs": [
    {
     "name": "stdout",
     "output_type": "stream",
     "text": [
      "\r",
      "  0% [                                                                            ]      0 / 273807\r",
      "  2% [..                                                                          ]   8192 / 273807\r",
      "  5% [....                                                                        ]  16384 / 273807\r",
      "  8% [......                                                                      ]  24576 / 273807\r",
      " 11% [.........                                                                   ]  32768 / 273807\r",
      " 14% [...........                                                                 ]  40960 / 273807\r",
      " 17% [.............                                                               ]  49152 / 273807\r",
      " 20% [...............                                                             ]  57344 / 273807\r",
      " 23% [..................                                                          ]  65536 / 273807\r",
      " 26% [....................                                                        ]  73728 / 273807\r",
      " 29% [......................                                                      ]  81920 / 273807\r",
      " 32% [.........................                                                   ]  90112 / 273807\r",
      " 35% [...........................                                                 ]  98304 / 273807\r",
      " 38% [.............................                                               ] 106496 / 273807\r",
      " 41% [...............................                                             ] 114688 / 273807\r",
      " 44% [..................................                                          ] 122880 / 273807\r",
      " 47% [....................................                                        ] 131072 / 273807\r",
      " 50% [......................................                                      ] 139264 / 273807\r",
      " 53% [........................................                                    ] 147456 / 273807\r",
      " 56% [...........................................                                 ] 155648 / 273807\r",
      " 59% [.............................................                               ] 163840 / 273807\r",
      " 62% [...............................................                             ] 172032 / 273807\r",
      " 65% [..................................................                          ] 180224 / 273807\r",
      " 68% [....................................................                        ] 188416 / 273807\r",
      " 71% [......................................................                      ] 196608 / 273807\r",
      " 74% [........................................................                    ] 204800 / 273807\r",
      " 77% [...........................................................                 ] 212992 / 273807\r",
      " 80% [.............................................................               ] 221184 / 273807\r",
      " 83% [...............................................................             ] 229376 / 273807\r",
      " 86% [.................................................................           ] 237568 / 273807\r",
      " 89% [....................................................................        ] 245760 / 273807\r",
      " 92% [......................................................................      ] 253952 / 273807\r",
      " 95% [........................................................................    ] 262144 / 273807\r",
      " 98% [........................................................................... ] 270336 / 273807\r",
      "100% [............................................................................] 273807 / 273807\r",
      "  0% [                                                                            ]      0 / 273807\r",
      "  2% [..                                                                          ]   8192 / 273807\r",
      "  5% [....                                                                        ]  16384 / 273807\r",
      "  8% [......                                                                      ]  24576 / 273807\r",
      " 11% [.........                                                                   ]  32768 / 273807\r",
      " 14% [...........                                                                 ]  40960 / 273807\r",
      " 17% [.............                                                               ]  49152 / 273807\r",
      " 20% [...............                                                             ]  57344 / 273807\r",
      " 23% [..................                                                          ]  65536 / 273807\r",
      " 26% [....................                                                        ]  73728 / 273807\r",
      " 29% [......................                                                      ]  81920 / 273807\r",
      " 32% [.........................                                                   ]  90112 / 273807\r",
      " 35% [...........................                                                 ]  98304 / 273807\r",
      " 38% [.............................                                               ] 106496 / 273807\r",
      " 41% [...............................                                             ] 114688 / 273807\r",
      " 44% [..................................                                          ] 122880 / 273807\r",
      " 47% [....................................                                        ] 131072 / 273807\r",
      " 50% [......................................                                      ] 139264 / 273807\r",
      " 53% [........................................                                    ] 147456 / 273807\r",
      " 56% [...........................................                                 ] 155648 / 273807\r",
      " 59% [.............................................                               ] 163840 / 273807\r",
      " 62% [...............................................                             ] 172032 / 273807\r",
      " 65% [..................................................                          ] 180224 / 273807\r",
      " 68% [....................................................                        ] 188416 / 273807\r",
      " 71% [......................................................                      ] 196608 / 273807\r",
      " 74% [........................................................                    ] 204800 / 273807\r",
      " 77% [...........................................................                 ] 212992 / 273807\r",
      " 80% [.............................................................               ] 221184 / 273807\r",
      " 83% [...............................................................             ] 229376 / 273807\r",
      " 86% [.................................................................           ] 237568 / 273807\r",
      " 89% [....................................................................        ] 245760 / 273807\r",
      " 92% [......................................................................      ] 253952 / 273807\r",
      " 95% [........................................................................    ] 262144 / 273807\r",
      " 98% [........................................................................... ] 270336 / 273807\r",
      "100% [............................................................................] 273807 / 273807\r",
      "  0% [                                                                            ]      0 / 150883\r",
      "  5% [....                                                                        ]   8192 / 150883\r",
      " 10% [........                                                                    ]  16384 / 150883\r",
      " 16% [............                                                                ]  24576 / 150883\r",
      " 21% [................                                                            ]  32768 / 150883\r",
      " 27% [....................                                                        ]  40960 / 150883\r",
      " 32% [........................                                                    ]  49152 / 150883\r",
      " 38% [............................                                                ]  57344 / 150883\r",
      " 43% [.................................                                           ]  65536 / 150883\r",
      " 48% [.....................................                                       ]  73728 / 150883\r",
      " 54% [.........................................                                   ]  81920 / 150883\r",
      " 59% [.............................................                               ]  90112 / 150883\r",
      " 65% [.................................................                           ]  98304 / 150883\r",
      " 70% [.....................................................                       ] 106496 / 150883\r",
      " 76% [.........................................................                   ] 114688 / 150883\r",
      " 81% [.............................................................               ] 122880 / 150883\r",
      " 86% [..................................................................          ] 131072 / 150883\r",
      " 92% [......................................................................      ] 139264 / 150883\r",
      " 97% [..........................................................................  ] 147456 / 150883\r",
      "100% [............................................................................] 150883 / 150883\r",
      "  0% [                                                                            ]      0 / 145594"
     ]
    },
    {
     "name": "stdout",
     "output_type": "stream",
     "text": [
      "100% [............................................................................] 501206 / 501206"
     ]
    }
   ],
   "source": [
    "counter = 0\n",
    "for image in images:\n",
    "    save_as = os.path.join(path, keyword[1:] + str(counter) + '.jpg')\n",
    "    wget.download(image, save_as)\n",
    "    counter += 1"
   ]
  },
  {
   "cell_type": "code",
   "execution_count": null,
   "metadata": {},
   "outputs": [],
   "source": []
  },
  {
   "cell_type": "code",
   "execution_count": null,
   "metadata": {},
   "outputs": [],
   "source": []
  },
  {
   "cell_type": "code",
   "execution_count": null,
   "metadata": {},
   "outputs": [],
   "source": []
  },
  {
   "cell_type": "code",
   "execution_count": null,
   "metadata": {},
   "outputs": [],
   "source": []
  },
  {
   "cell_type": "code",
   "execution_count": null,
   "metadata": {},
   "outputs": [],
   "source": []
  },
  {
   "cell_type": "code",
   "execution_count": null,
   "metadata": {},
   "outputs": [],
   "source": []
  },
  {
   "cell_type": "code",
   "execution_count": 3,
   "metadata": {},
   "outputs": [
    {
     "name": "stdout",
     "output_type": "stream",
     "text": [
      "Requirement already satisfied: selenium in c:\\users\\admin\\anaconda3\\lib\\site-packages (4.1.0)\n",
      "Requirement already satisfied: urllib3[secure]~=1.26 in c:\\users\\admin\\anaconda3\\lib\\site-packages (from selenium) (1.26.7)\n",
      "Requirement already satisfied: trio-websocket~=0.9 in c:\\users\\admin\\anaconda3\\lib\\site-packages (from selenium) (0.9.2)\n",
      "Requirement already satisfied: trio~=0.17 in c:\\users\\admin\\anaconda3\\lib\\site-packages (from selenium) (0.19.0)\n",
      "Requirement already satisfied: sniffio in c:\\users\\admin\\anaconda3\\lib\\site-packages (from trio~=0.17->selenium) (1.2.0)\n",
      "Requirement already satisfied: idna in c:\\users\\admin\\anaconda3\\lib\\site-packages (from trio~=0.17->selenium) (3.2)\n",
      "Requirement already satisfied: async-generator>=1.9 in c:\\users\\admin\\anaconda3\\lib\\site-packages (from trio~=0.17->selenium) (1.10)\n",
      "Requirement already satisfied: cffi>=1.14 in c:\\users\\admin\\anaconda3\\lib\\site-packages (from trio~=0.17->selenium) (1.14.6)\n",
      "Requirement already satisfied: sortedcontainers in c:\\users\\admin\\anaconda3\\lib\\site-packages (from trio~=0.17->selenium) (2.4.0)\n",
      "Requirement already satisfied: attrs>=19.2.0 in c:\\users\\admin\\anaconda3\\lib\\site-packages (from trio~=0.17->selenium) (21.2.0)\n",
      "Requirement already satisfied: outcome in c:\\users\\admin\\anaconda3\\lib\\site-packages (from trio~=0.17->selenium) (1.1.0)\n",
      "Requirement already satisfied: pycparser in c:\\users\\admin\\anaconda3\\lib\\site-packages (from cffi>=1.14->trio~=0.17->selenium) (2.20)\n",
      "Requirement already satisfied: wsproto>=0.14 in c:\\users\\admin\\anaconda3\\lib\\site-packages (from trio-websocket~=0.9->selenium) (1.0.0)\n",
      "Requirement already satisfied: pyOpenSSL>=0.14 in c:\\users\\admin\\anaconda3\\lib\\site-packages (from urllib3[secure]~=1.26->selenium) (21.0.0)\n",
      "Requirement already satisfied: cryptography>=1.3.4 in c:\\users\\admin\\anaconda3\\lib\\site-packages (from urllib3[secure]~=1.26->selenium) (3.4.8)\n",
      "Requirement already satisfied: certifi in c:\\users\\admin\\anaconda3\\lib\\site-packages (from urllib3[secure]~=1.26->selenium) (2021.10.8)\n",
      "Requirement already satisfied: six>=1.5.2 in c:\\users\\admin\\anaconda3\\lib\\site-packages (from pyOpenSSL>=0.14->urllib3[secure]~=1.26->selenium) (1.16.0)\n",
      "Requirement already satisfied: h11<1,>=0.9.0 in c:\\users\\admin\\anaconda3\\lib\\site-packages (from wsproto>=0.14->trio-websocket~=0.9->selenium) (0.12.0)\n",
      "Note: you may need to restart the kernel to use updated packages.\n"
     ]
    }
   ],
   "source": [
    "pip install selenium"
   ]
  },
  {
   "cell_type": "code",
   "execution_count": null,
   "metadata": {},
   "outputs": [],
   "source": []
  },
  {
   "cell_type": "code",
   "execution_count": null,
   "metadata": {},
   "outputs": [],
   "source": []
  },
  {
   "cell_type": "code",
   "execution_count": null,
   "metadata": {},
   "outputs": [],
   "source": []
  },
  {
   "cell_type": "code",
   "execution_count": null,
   "metadata": {},
   "outputs": [],
   "source": []
  },
  {
   "cell_type": "code",
   "execution_count": null,
   "metadata": {},
   "outputs": [],
   "source": []
  },
  {
   "cell_type": "code",
   "execution_count": null,
   "metadata": {},
   "outputs": [],
   "source": []
  },
  {
   "cell_type": "code",
   "execution_count": null,
   "metadata": {},
   "outputs": [],
   "source": []
  },
  {
   "cell_type": "code",
   "execution_count": null,
   "metadata": {},
   "outputs": [],
   "source": []
  }
 ],
 "metadata": {
  "kernelspec": {
   "display_name": "Python 3 (ipykernel)",
   "language": "python",
   "name": "python3"
  },
  "language_info": {
   "codemirror_mode": {
    "name": "ipython",
    "version": 3
   },
   "file_extension": ".py",
   "mimetype": "text/x-python",
   "name": "python",
   "nbconvert_exporter": "python",
   "pygments_lexer": "ipython3",
   "version": "3.9.7"
  }
 },
 "nbformat": 4,
 "nbformat_minor": 4
}
