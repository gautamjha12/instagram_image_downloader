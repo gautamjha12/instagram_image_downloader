{
 "cells": [
  {
   "cell_type": "code",
   "execution_count": 153,
   "metadata": {},
   "outputs": [],
   "source": [
    "import os\n",
    "import wget \n",
    "from selenium import webdriver\n",
    "from selenium.webdriver.common.keys import Keys\n",
    "from selenium.webdriver.support import expected_conditions as EC\n",
    "from selenium.webdriver.common.by import By\n",
    "from selenium.webdriver.support.wait import WebDriverWait"
   ]
  },
  {
   "cell_type": "code",
   "execution_count": 154,
   "metadata": {},
   "outputs": [],
   "source": [
    "driver = webdriver.Chrome('X:/Python/Web_Crawling_Scraping/Web_Scraping_instagram/chromedriver.exe')\n",
    "driver.get('https://www.instagram.com/')"
   ]
  },
  {
   "cell_type": "code",
   "execution_count": 155,
   "metadata": {},
   "outputs": [],
   "source": [
    "username = WebDriverWait(driver,10).until(EC.element_to_be_clickable((By.CSS_SELECTOR, \"input[name='username']\")))\n",
    "password = WebDriverWait(driver,10).until(EC.element_to_be_clickable((By.CSS_SELECTOR, \"input[name='password']\")))\n",
    "\n",
    "username.clear()\n",
    "password.clear()\n",
    "username.send_keys('slatewebs')\n",
    "password.send_keys('Slatetodate01')"
   ]
  },
  {
   "cell_type": "code",
   "execution_count": 156,
   "metadata": {},
   "outputs": [],
   "source": [
    "login = WebDriverWait(driver,10).until(EC.element_to_be_clickable((By.CSS_SELECTOR, \"button[type='submit']\"))).click()"
   ]
  },
  {
   "cell_type": "code",
   "execution_count": 157,
   "metadata": {},
   "outputs": [],
   "source": [
    "not_now = WebDriverWait(driver,10).until(EC.element_to_be_clickable((By.XPATH, \"//button[contains(text(),'Not Now')]\"))).click()\n",
    "not_now_notifications = WebDriverWait(driver,10).until(EC.element_to_be_clickable((By.XPATH, \"//button[contains(text(),'Not Now')]\"))).click()"
   ]
  },
  {
   "cell_type": "code",
   "execution_count": 158,
   "metadata": {},
   "outputs": [],
   "source": [
    "search = not_now = WebDriverWait(driver,10).until(EC.element_to_be_clickable((By.XPATH, \"//input[@placeholder='Search']\")))\n",
    "search.clear()\n",
    "keyword = \"#sex\"\n",
    "search.send_keys(keyword)"
   ]
  },
  {
   "cell_type": "code",
   "execution_count": 160,
   "metadata": {},
   "outputs": [],
   "source": [
    "search.send_keys(Keys.ENTER)"
   ]
  },
  {
   "cell_type": "code",
   "execution_count": 161,
   "metadata": {},
   "outputs": [],
   "source": [
    "driver.execute_script(\"window.scrollTo(0,1000000000000000000000);\")\n",
    "images = driver.find_elements_by_tag_name('img')"
   ]
  },
  {
   "cell_type": "code",
   "execution_count": 162,
   "metadata": {},
   "outputs": [],
   "source": [
    "images = [image.get_attribute('src') for image in images]"
   ]
  },
  {
   "cell_type": "code",
   "execution_count": 163,
   "metadata": {},
   "outputs": [
    {
     "data": {
      "text/plain": [
       "['https://instagram.fbom36-1.fna.fbcdn.net/v/t51.2885-15/e15/s150x150/154773834_1568558283343295_2792045277714989678_n.jpg?tp=1&_nc_ht=instagram.fbom36-1.fna.fbcdn.net&_nc_cat=111&_nc_ohc=pMor0ZOzdmkAX8Dcq7C&oh=90b2cf725d51f4c06c847ffe48496b66&oe=60683A03',\n",
       " 'https://instagram.fbom36-1.fna.fbcdn.net/v/t51.2885-15/sh0.08/e35/c0.180.1440.1440a/s640x640/156391904_1455278114813757_9171514426874569788_n.jpg?tp=1&_nc_ht=instagram.fbom36-1.fna.fbcdn.net&_nc_cat=109&_nc_ohc=41VGYxU_xpQAX8iw-MJ&oh=a5c2ec75ebf8b41b23b5b232e1d85103&oe=606C0FE4',\n",
       " 'https://instagram.fbom36-1.fna.fbcdn.net/v/t51.2885-15/sh0.08/e35/c0.177.1440.1440a/s640x640/156494800_252060413194140_4566007758611227000_n.jpg?tp=1&_nc_ht=instagram.fbom36-1.fna.fbcdn.net&_nc_cat=100&_nc_ohc=CAngCGHAbxcAX8i8XqT&oh=60e24d3584d41c06cff3846af116f15d&oe=60692347',\n",
       " 'https://instagram.fbom36-1.fna.fbcdn.net/v/t51.2885-15/sh0.08/e35/s640x640/156976785_540327633588653_1689506429698523225_n.jpg?tp=1&_nc_ht=instagram.fbom36-1.fna.fbcdn.net&_nc_cat=105&_nc_ohc=kGtu7UNtujwAX8i7t6Q&oh=d756fe2bbbc4e5da51e5bb2899e68bef&oe=60430B70',\n",
       " 'https://instagram.fbom36-1.fna.fbcdn.net/v/t51.2885-15/sh0.08/e35/c173.0.1094.1094a/s640x640/155839800_3665667646884714_4091924876042792514_n.jpg?tp=1&_nc_ht=instagram.fbom36-1.fna.fbcdn.net&_nc_cat=106&_nc_ohc=MrYrmr005X4AX96ToVO&oh=69d70147a96df2e2d17391874921612b&oe=606B62DA',\n",
       " 'https://instagram.fbom36-1.fna.fbcdn.net/v/t51.2885-15/e35/c7.0.524.524a/155546366_475698240121311_8307286962242027275_n.jpg?tp=1&_nc_ht=instagram.fbom36-1.fna.fbcdn.net&_nc_cat=103&_nc_ohc=zYGfpTSrM7YAX_cpdV0&oh=6c9ca9b89ea1de9fbf1a7f09bd978a48&oe=60694E93',\n",
       " 'https://instagram.fbom36-1.fna.fbcdn.net/v/t51.2885-15/sh0.08/e35/s640x640/155925018_794028831536624_8961331356438935499_n.jpg?tp=1&_nc_ht=instagram.fbom36-1.fna.fbcdn.net&_nc_cat=1&_nc_ohc=WmL22MGSn0UAX-4wW5M&oh=bab841fed6095aa5a0afdd8dc665c0bf&oe=606A62B3',\n",
       " 'https://instagram.fbom36-1.fna.fbcdn.net/v/t51.2885-15/sh0.08/e35/c0.148.1440.1440a/s640x640/154967661_3731990320170188_207899165429654998_n.jpg?tp=1&_nc_ht=instagram.fbom36-1.fna.fbcdn.net&_nc_cat=1&_nc_ohc=O_6Ibxf3Lb4AX8t3qqN&oh=a603a03b393fb23cb822a357e5378090&oe=60688507',\n",
       " 'https://instagram.fbom36-1.fna.fbcdn.net/v/t51.2885-15/sh0.08/e35/c13.0.693.693a/s640x640/156298994_188181463065153_4044122452219829701_n.jpg?tp=1&_nc_ht=instagram.fbom36-1.fna.fbcdn.net&_nc_cat=109&_nc_ohc=s2jFW8TZsfEAX9rwTtn&oh=235a9525163125ccec85087669ec2015&oe=6069ABFA',\n",
       " 'https://instagram.fbom36-1.fna.fbcdn.net/v/t51.2885-15/sh0.08/e35/s640x640/156900168_442351753644920_4973526989339401613_n.jpg?tp=1&_nc_ht=instagram.fbom36-1.fna.fbcdn.net&_nc_cat=1&_nc_ohc=B6-dga71aHkAX-NzOrm&oh=daad086ed9bb8215079d667100fb72c6&oe=606994AD',\n",
       " 'https://instagram.fbom36-1.fna.fbcdn.net/v/t51.2885-15/e35/156164348_2793025271012503_3472838218619395111_n.jpg?tp=1&_nc_ht=instagram.fbom36-1.fna.fbcdn.net&_nc_cat=107&_nc_ohc=sQtPqAbUWVcAX8TcIzz&tn=1idOhIXSl1FobJWv&oh=30e7b7eb988aafd704c1fe66ed01f656&oe=60432FC5',\n",
       " 'https://instagram.fbom36-1.fna.fbcdn.net/v/t51.2885-15/e35/156665218_1114219962385160_8990296856309702236_n.jpg?tp=1&_nc_ht=instagram.fbom36-1.fna.fbcdn.net&_nc_cat=108&_nc_ohc=F8gD_xLmhd4AX_wi-cw&oh=05be5d1b1da2f4edd2a8ade467ad7149&oe=6042DFFF',\n",
       " 'https://instagram.fbom36-1.fna.fbcdn.net/v/t51.2885-15/e35/156296003_1069993333486944_4062760409383993043_n.jpg?tp=1&_nc_ht=instagram.fbom36-1.fna.fbcdn.net&_nc_cat=100&_nc_ohc=GDmVuCmwKXYAX_rLuVw&oh=c0a188f9e58a8bf8565210d5e4198c14&oe=60432170',\n",
       " 'https://instagram.fbom36-1.fna.fbcdn.net/v/t51.2885-15/e35/156246133_2844221822463877_9169979502088780748_n.jpg?tp=1&_nc_ht=instagram.fbom36-1.fna.fbcdn.net&_nc_cat=101&_nc_ohc=DT09GgZxlqAAX-ClPNv&oh=239e323d75fd513a324bd0d807ab3d40&oe=6042986F',\n",
       " 'https://instagram.fbom36-1.fna.fbcdn.net/v/t51.2885-15/e35/156056000_283928206426461_4934923977663861944_n.jpg?tp=1&_nc_ht=instagram.fbom36-1.fna.fbcdn.net&_nc_cat=109&_nc_ohc=ONTT4AZLE-EAX8c4yA1&oh=2fac6989458288de9098544c83d455ec&oe=6042BC0A',\n",
       " 'https://instagram.fbom36-1.fna.fbcdn.net/v/t51.2885-15/sh0.08/e35/s640x640/156729342_334414421338451_9185684165620896238_n.jpg?tp=1&_nc_ht=instagram.fbom36-1.fna.fbcdn.net&_nc_cat=111&_nc_ohc=mbsLlnaVqyEAX9hV7nc&oh=b9ab5dbb28353b32fd28482507a345be&oe=606A6CE5',\n",
       " 'https://instagram.fbom36-1.fna.fbcdn.net/v/t51.2885-15/e35/156944720_445101179942475_9190123764170086552_n.jpg?tp=1&_nc_ht=instagram.fbom36-1.fna.fbcdn.net&_nc_cat=103&_nc_ohc=B7oUcYdZ54kAX_ihR3V&oh=40f297f46ea153673e7df38fbc52eb4c&oe=6042D3EB',\n",
       " 'https://instagram.fbom36-1.fna.fbcdn.net/v/t51.2885-15/e35/156233301_729070874441484_5279550318966811263_n.jpg?tp=1&_nc_ht=instagram.fbom36-1.fna.fbcdn.net&_nc_cat=100&_nc_ohc=QOXlG5QYpPgAX8-Cypv&oh=62137be7a3a66fec3c702c0d064a90aa&oe=6042AF45',\n",
       " 'https://instagram.fbom36-1.fna.fbcdn.net/v/t51.2885-15/sh0.08/e35/s640x640/156620383_176382560962303_6313093885074940037_n.jpg?tp=1&_nc_ht=instagram.fbom36-1.fna.fbcdn.net&_nc_cat=107&_nc_ohc=g3367Wphhs8AX_VFQ6d&oh=83c9af8421228ac618d0d27d9e92f452&oe=60695248',\n",
       " 'https://instagram.fbom36-1.fna.fbcdn.net/v/t51.2885-15/sh0.08/e35/s640x640/156301688_430512198056159_6868807021146918011_n.jpg?tp=1&_nc_ht=instagram.fbom36-1.fna.fbcdn.net&_nc_cat=111&_nc_ohc=Zy7z6CZ_DEIAX9fiXUK&oh=8e53231b89de8ed3ad9eaa19ce95757c&oe=6069F1B5',\n",
       " 'https://instagram.fbom36-1.fna.fbcdn.net/v/t51.2885-15/e35/156761828_143682657615085_6150694309300712169_n.jpg?tp=1&_nc_ht=instagram.fbom36-1.fna.fbcdn.net&_nc_cat=101&_nc_ohc=qA52Zx_7gHwAX9VDE2V&oh=2881f704c45f8671def88c6ca6b96dc3&oe=60429672',\n",
       " 'https://instagram.fbom36-1.fna.fbcdn.net/v/t51.2885-15/sh0.08/e35/s640x640/156523214_1169931616770871_6830749008454021142_n.jpg?tp=1&_nc_ht=instagram.fbom36-1.fna.fbcdn.net&_nc_cat=107&_nc_ohc=A84SQDDXJawAX-65vbm&oh=d54da6f1156472ad2c4f729b68aaf31a&oe=606B4DDE',\n",
       " 'https://instagram.fbom36-1.fna.fbcdn.net/v/t51.2885-15/sh0.08/e35/s640x640/156158090_476141037086228_9006574053691047253_n.jpg?tp=1&_nc_ht=instagram.fbom36-1.fna.fbcdn.net&_nc_cat=108&_nc_ohc=2Y80vuMVsRIAX_WvBB6&oh=af0b943be2e874f7acd2b25050dba50a&oe=60682DA6',\n",
       " 'https://instagram.fbom36-1.fna.fbcdn.net/v/t51.2885-15/e35/c0.80.640.640a/157114068_2920077594932546_1078575705985421256_n.jpg?tp=1&_nc_ht=instagram.fbom36-1.fna.fbcdn.net&_nc_cat=102&_nc_ohc=sOxmeB7oOzkAX_Mng6j&oh=a4b8e0d9af516cf1a6519d49faf4c88f&oe=6042EC10',\n",
       " 'https://instagram.fbom36-1.fna.fbcdn.net/v/t51.2885-15/e35/156598721_523729598597926_8084029165914767803_n.jpg?tp=1&_nc_ht=instagram.fbom36-1.fna.fbcdn.net&_nc_cat=110&_nc_ohc=CQfoj25fPPAAX_chzJh&oh=13262b3cd95dee88f7530135e40d83a9&oe=60433963',\n",
       " 'https://instagram.fbom36-1.fna.fbcdn.net/v/t51.2885-15/e35/156252259_204247424819416_8435763953501781344_n.jpg?tp=1&_nc_ht=instagram.fbom36-1.fna.fbcdn.net&_nc_cat=104&_nc_ohc=XZnA_BnVPbUAX91CPFS&oh=d5c7f6b686303806ab45ec0b061457ee&oe=60429F6F',\n",
       " 'https://instagram.fbom36-1.fna.fbcdn.net/v/t51.2885-15/sh0.08/e35/s640x640/156552237_917769105660385_9158385144372231715_n.jpg?tp=1&_nc_ht=instagram.fbom36-1.fna.fbcdn.net&_nc_cat=101&_nc_ohc=gA_HIlbo1qMAX9PfbgK&oh=2e8689ca04808b6947abbd4af98e26d7&oe=60691CFD',\n",
       " 'https://instagram.fbom36-1.fna.fbcdn.net/v/t51.2885-15/e35/155897702_467514577766614_8858069995110391849_n.jpg?tp=1&_nc_ht=instagram.fbom36-1.fna.fbcdn.net&_nc_cat=110&_nc_ohc=eYuepb2cVvQAX98wOF4&oh=496e9dd1716ea8335cc38c7ecc658854&oe=6042B03C',\n",
       " 'https://instagram.fbom36-1.fna.fbcdn.net/v/t51.2885-15/e35/c0.150.540.540a/155791771_450207239624585_1998037341396186576_n.jpg?tp=1&_nc_ht=instagram.fbom36-1.fna.fbcdn.net&_nc_cat=105&_nc_ohc=sTV1Q8qk5hUAX8zPD4E&oh=bf6f5ac401adc0be3706da5423b7cdab&oe=604325D8',\n",
       " 'https://instagram.fbom36-1.fna.fbcdn.net/v/t51.2885-15/e35/156154749_440565263943102_8816185263536993991_n.jpg?tp=1&_nc_ht=instagram.fbom36-1.fna.fbcdn.net&_nc_cat=106&_nc_ohc=q-UO0jSSsKAAX_q7EN4&oh=6d2df1bfd0f2ee61a851fa754e88c42d&oe=6042FA53',\n",
       " 'https://instagram.fbom36-1.fna.fbcdn.net/v/t51.2885-15/sh0.08/e35/c0.179.1440.1440a/s640x640/155948546_272739074447547_3930317300248870067_n.jpg?tp=1&_nc_ht=instagram.fbom36-1.fna.fbcdn.net&_nc_cat=103&_nc_ohc=yhNToyVGd34AX_3dRwD&oh=29d28d1e08f004b22e4d6ee5045d9df0&oe=60683FD5',\n",
       " 'https://instagram.fbom36-1.fna.fbcdn.net/v/t51.2885-15/e15/c0.90.720.720a/s640x640/156568211_432461724524856_5974709604696469998_n.jpg?tp=1&_nc_ht=instagram.fbom36-1.fna.fbcdn.net&_nc_cat=100&_nc_ohc=Ggaajw5-Lb0AX-kIoHq&oh=9f340fb594d1baea2e9b0a9cc0ba78fd&oe=606981F4',\n",
       " 'https://instagram.fbom36-1.fna.fbcdn.net/v/t51.2885-15/e35/156365999_121791009877639_4469433508619862412_n.jpg?tp=1&_nc_ht=instagram.fbom36-1.fna.fbcdn.net&_nc_cat=107&_nc_ohc=7UM_cCXSLCMAX8l-2Hp&oh=fee27d0a83e71a5d48ba5e92bff9ec9a&oe=6042F2A9',\n",
       " 'https://instagram.fbom36-1.fna.fbcdn.net/v/t51.2885-15/e35/151332876_184493829794208_5286340442027223809_n.jpg?tp=1&_nc_ht=instagram.fbom36-1.fna.fbcdn.net&_nc_cat=100&_nc_ohc=hOxouP75Y9QAX-W05w0&oh=13a6a3ba8eb562ef147b9d7326f90b3d&oe=6042A97F',\n",
       " 'https://instagram.fbom36-1.fna.fbcdn.net/v/t51.2885-15/sh0.08/e35/s640x640/156492229_554749642151893_7440232645065114314_n.jpg?tp=1&_nc_ht=instagram.fbom36-1.fna.fbcdn.net&_nc_cat=101&_nc_ohc=sAh9bhC-FVgAX_9zAcU&oh=bf5c141d1b2aa6bfecc14cc23288b2a2&oe=60699014',\n",
       " 'https://instagram.fbom36-1.fna.fbcdn.net/v/t51.2885-15/e35/c53.0.213.213a/155350262_511366220251655_5554338886870579046_n.jpg?tp=1&_nc_ht=instagram.fbom36-1.fna.fbcdn.net&_nc_cat=111&_nc_ohc=riPmePPz2MYAX-Rk3ra&oh=1072e87de6e3fba940f038f1baf9c481&oe=606ADE9A',\n",
       " 'https://instagram.fbom36-1.fna.fbcdn.net/v/t51.2885-15/sh0.08/e35/c131.0.818.818a/s640x640/156328916_1265540580506862_6455892760444621095_n.jpg?tp=1&_nc_ht=instagram.fbom36-1.fna.fbcdn.net&_nc_cat=106&_nc_ohc=SWDiPe9spLAAX8o-5gM&oh=dd04b9745838a123f9036c196d1fefcb&oe=60685A4C',\n",
       " 'https://instagram.fbom36-1.fna.fbcdn.net/v/t51.2885-15/e35/157117568_722463505089445_5996626842404826351_n.jpg?tp=1&_nc_ht=instagram.fbom36-1.fna.fbcdn.net&_nc_cat=101&_nc_ohc=tvUGtCyWZeIAX9qNTZO&oh=bdc5a3f93edf4af0b8011fe9bf202c17&oe=6042A7AC',\n",
       " 'https://instagram.fbom36-1.fna.fbcdn.net/v/t51.2885-15/sh0.08/e35/s640x640/156398166_1112107052567229_2204291959404313847_n.jpg?tp=1&_nc_ht=instagram.fbom36-1.fna.fbcdn.net&_nc_cat=109&_nc_ohc=qPveRxQjdRkAX8vBoE8&oh=d38d6898af19da16a563a0e2ca2eeb4a&oe=606BA48B',\n",
       " 'https://instagram.fbom36-1.fna.fbcdn.net/v/t51.2885-15/e35/155979459_202744214968437_1505502862355136825_n.jpg?tp=1&_nc_ht=instagram.fbom36-1.fna.fbcdn.net&_nc_cat=109&_nc_ohc=wqs0pP4XOxYAX9tVI0j&oh=df95a0def05f24fa7032c350ab9fa480&oe=606A6A6B',\n",
       " 'https://instagram.fbom36-1.fna.fbcdn.net/v/t51.2885-15/sh0.08/e35/s640x640/156497379_255985556158614_8929131003801346513_n.jpg?tp=1&_nc_ht=instagram.fbom36-1.fna.fbcdn.net&_nc_cat=106&_nc_ohc=TNNijoD9zfAAX-JA2bm&oh=477b5d2c3f7cfc1499c18166f1c893bc&oe=6069B3FE',\n",
       " 'https://instagram.fbom36-1.fna.fbcdn.net/v/t51.2885-15/sh0.08/e35/s640x640/156583670_197583175485908_1007736596772619152_n.jpg?tp=1&_nc_ht=instagram.fbom36-1.fna.fbcdn.net&_nc_cat=108&_nc_ohc=QB1xp29nnUsAX8zNX3T&oh=1c3e2bcb6c8901a3d1f08f261e01a713&oe=606B1E24',\n",
       " 'https://instagram.fbom36-1.fna.fbcdn.net/v/t51.2885-15/sh0.08/e35/s640x640/156131747_844905882905827_5867157382268417983_n.jpg?tp=1&_nc_ht=instagram.fbom36-1.fna.fbcdn.net&_nc_cat=107&_nc_ohc=p4qn4K9u-LMAX_yTv0s&oh=8eeb17d094d35d60388af95c65487591&oe=606B3EC3',\n",
       " 'https://instagram.fbom36-1.fna.fbcdn.net/v/t51.2885-15/sh0.08/e35/s640x640/157421966_246466893831293_4853295322584408715_n.jpg?tp=1&_nc_ht=instagram.fbom36-1.fna.fbcdn.net&_nc_cat=105&_nc_ohc=a4ekoG4S0doAX_S7HRg&oh=27a25fdb31c8517211280da441dd7ae0&oe=60696517',\n",
       " 'https://instagram.fbom36-1.fna.fbcdn.net/v/t51.2885-15/e35/156608707_144892717495621_8053010557521852269_n.jpg?tp=1&_nc_ht=instagram.fbom36-1.fna.fbcdn.net&_nc_cat=101&_nc_ohc=LMB2oqX9n9IAX9cRnr-&oh=800d5150e5c9dba61531e5f7904f3d69&oe=60429AF2',\n",
       " 'https://instagram.fbom36-1.fna.fbcdn.net/v/t51.2885-15/sh0.08/e35/s640x640/156559901_3537832669675800_7798424979159298800_n.jpg?tp=1&_nc_ht=instagram.fbom36-1.fna.fbcdn.net&_nc_cat=100&_nc_ohc=6IRJHh8o7YAAX_dOEC3&oh=d06ddeeb9de9ddfc9e87871e775a1f08&oe=6069364C',\n",
       " 'https://www.instagram.com/static/images/web/mobile_nav_type_logo.png/735145cfe0a4.png',\n",
       " 'https://instagram.ffjr1-4.fna.fbcdn.net/v/t51.2885-19/44884218_345707102882519_2446069589734326272_n.jpg?_nc_ht=instagram.ffjr1-4.fna.fbcdn.net&_nc_ohc=-U1ua_8bi5cAX-bTuGX&oh=1e62075e2a5d2e0872ca374a48c9d0fa&oe=606BC40F&ig_cache_key=YW5vbnltb3VzX3Byb2ZpbGVfcGlj.2']"
      ]
     },
     "execution_count": 163,
     "metadata": {},
     "output_type": "execute_result"
    }
   ],
   "source": [
    "images"
   ]
  },
  {
   "cell_type": "code",
   "execution_count": 164,
   "metadata": {},
   "outputs": [
    {
     "data": {
      "text/plain": [
       "'X:\\\\Python\\\\Web_Crawling_Scraping\\\\Web_Scraping_instagram\\\\sexs'"
      ]
     },
     "execution_count": 164,
     "metadata": {},
     "output_type": "execute_result"
    }
   ],
   "source": [
    "path = os.getcwd()\n",
    "path = os.path.join(path, keyword[1:] + 's')\n",
    "\n",
    "os.mkdir(path)\n",
    "path"
   ]
  },
  {
   "cell_type": "code",
   "execution_count": 165,
   "metadata": {},
   "outputs": [
    {
     "name": "stdout",
     "output_type": "stream",
     "text": [
      "100% [..............................................................................] 28350 / 28350"
     ]
    }
   ],
   "source": [
    "counter = 0\n",
    "for image in images:\n",
    "    save_as = os.path.join(path, keyword[1:] + str(counter) + '.jpg')\n",
    "    wget.download(image, save_as)\n",
    "    counter += 1"
   ]
  },
  {
   "cell_type": "code",
   "execution_count": null,
   "metadata": {},
   "outputs": [],
   "source": []
  },
  {
   "cell_type": "code",
   "execution_count": null,
   "metadata": {},
   "outputs": [],
   "source": []
  },
  {
   "cell_type": "code",
   "execution_count": null,
   "metadata": {},
   "outputs": [],
   "source": []
  },
  {
   "cell_type": "code",
   "execution_count": null,
   "metadata": {},
   "outputs": [],
   "source": []
  },
  {
   "cell_type": "code",
   "execution_count": null,
   "metadata": {},
   "outputs": [],
   "source": []
  },
  {
   "cell_type": "code",
   "execution_count": null,
   "metadata": {},
   "outputs": [],
   "source": []
  },
  {
   "cell_type": "code",
   "execution_count": null,
   "metadata": {},
   "outputs": [],
   "source": []
  },
  {
   "cell_type": "code",
   "execution_count": null,
   "metadata": {},
   "outputs": [],
   "source": []
  },
  {
   "cell_type": "code",
   "execution_count": null,
   "metadata": {},
   "outputs": [],
   "source": []
  },
  {
   "cell_type": "code",
   "execution_count": null,
   "metadata": {},
   "outputs": [],
   "source": []
  },
  {
   "cell_type": "code",
   "execution_count": null,
   "metadata": {},
   "outputs": [],
   "source": []
  },
  {
   "cell_type": "code",
   "execution_count": null,
   "metadata": {},
   "outputs": [],
   "source": []
  },
  {
   "cell_type": "code",
   "execution_count": null,
   "metadata": {},
   "outputs": [],
   "source": []
  },
  {
   "cell_type": "code",
   "execution_count": null,
   "metadata": {},
   "outputs": [],
   "source": []
  },
  {
   "cell_type": "code",
   "execution_count": null,
   "metadata": {},
   "outputs": [],
   "source": []
  }
 ],
 "metadata": {
  "kernelspec": {
   "display_name": "Python 3",
   "language": "python",
   "name": "python3"
  },
  "language_info": {
   "codemirror_mode": {
    "name": "ipython",
    "version": 3
   },
   "file_extension": ".py",
   "mimetype": "text/x-python",
   "name": "python",
   "nbconvert_exporter": "python",
   "pygments_lexer": "ipython3",
   "version": "3.8.5"
  }
 },
 "nbformat": 4,
 "nbformat_minor": 4
}
